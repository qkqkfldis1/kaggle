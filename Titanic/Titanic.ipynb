{
 "cells": [
  {
   "cell_type": "code",
   "execution_count": 8,
   "metadata": {},
   "outputs": [],
   "source": [
    "import pandas as pd\n",
    "import numpy as np\n",
    "import matplotlib.pyplot as plt"
   ]
  },
  {
   "cell_type": "code",
   "execution_count": 2,
   "metadata": {},
   "outputs": [
    {
     "name": "stdout",
     "output_type": "stream",
     "text": [
      "[RangeIndex(start=0, stop=891, step=1), Index(['PassengerId', 'Survived', 'Pclass', 'Name', 'Sex', 'Age', 'SibSp',\n",
      "       'Parch', 'Ticket', 'Fare', 'Cabin', 'Embarked'],\n",
      "      dtype='object')]\n"
     ]
    }
   ],
   "source": [
    "df_Xtrain = pd.DataFrame()\n",
    "df_ytrain = pd.DataFrame()\n",
    "train = pd.read_csv('train.csv').fillna(0)\n",
    "print(train.axes)\n",
    "def SexToNum(dfTemp):\n",
    "    if dfTemp['Sex'] == 'male':\n",
    "        return 0\n",
    "    if dfTemp['Sex'] == 'female':\n",
    "        return 1\n",
    "\n",
    "def EmbarkedToNum(dfTemp):\n",
    "    if dfTemp['Embarked'] == 'C':\n",
    "        return 0\n",
    "    elif dfTemp['Embarked'] == 'S':\n",
    "        return 1\n",
    "    elif dfTemp['Embarked'] == 'Q':\n",
    "        return 2\n",
    "    else:\n",
    "        return 3\n",
    "    \n",
    "# Make training set\n",
    "## X training set\n",
    "df_Xtrain['Pclass'] = train['Pclass']\n",
    "df_Xtrain['Age'] = train['Age']\n",
    "df_Xtrain['SibSp'] = train['SibSp']\n",
    "df_Xtrain['Parch'] = train['Parch']\n",
    "df_Xtrain['Fare'] = train['Fare']\n",
    "df_Xtrain['Sex'] = train.apply(SexToNum, axis=1)\n",
    "df_Xtrain['Embarked'] = train.apply(EmbarkedToNum, axis=1)\n",
    "df_Xtrain = df_Xtrain.set_index(train['PassengerId'])\n",
    "## y training set\n",
    "df_ytrain['Survived'] = train['Survived']\n",
    "df_ytrain = df_ytrain.set_index(train['PassengerId'])\n",
    "\n",
    "\n",
    "# Make test set\n",
    "df_Xtest = pd.DataFrame()\n",
    "df_ytest = pd.DataFrame()\n",
    "test = pd.read_csv('test.csv').fillna(0)\n",
    "## X test set\n",
    "df_Xtest['Pclass'] = test['Pclass']\n",
    "df_Xtest['Age'] = test['Age']\n",
    "df_Xtest['SibSp'] = test['SibSp']\n",
    "df_Xtest['Parch'] = test['Parch']\n",
    "df_Xtest['Fare'] = test['Fare']\n",
    "df_Xtest['Sex'] = test.apply(SexToNum, axis=1)\n",
    "df_Xtest['Embarked'] = train.apply(EmbarkedToNum, axis=1)\n",
    "df_Xtest = df_Xtest.set_index(test['PassengerId'])\n",
    "## y test set\n",
    "ytest_db = pd.read_csv('gender_submission.csv')\n",
    "df_ytest['Survived'] = ytest_db['Survived']\n",
    "df_ytest = df_ytest.set_index(ytest_db['PassengerId'])"
   ]
  },
  {
   "cell_type": "code",
   "execution_count": 3,
   "metadata": {},
   "outputs": [],
   "source": [
    "from sklearn.linear_model import LinearRegression\n",
    "lr = LinearRegression().fit(df_Xtrain, df_ytrain)"
   ]
  },
  {
   "cell_type": "code",
   "execution_count": 4,
   "metadata": {},
   "outputs": [
    {
     "data": {
      "text/plain": [
       "array([[ -1.56436676e-01,  -2.76205805e-03,  -3.91200055e-02,\n",
       "         -1.02931082e-02,   3.90885579e-04,   5.21374760e-01,\n",
       "         -2.78768511e-02]])"
      ]
     },
     "execution_count": 4,
     "metadata": {},
     "output_type": "execute_result"
    }
   ],
   "source": [
    "lr.coef_"
   ]
  },
  {
   "cell_type": "code",
   "execution_count": 5,
   "metadata": {
    "scrolled": true
   },
   "outputs": [
    {
     "name": "stdout",
     "output_type": "stream",
     "text": [
      "train set score: 0.38\n",
      "test set score 0.71\n"
     ]
    }
   ],
   "source": [
    "print(\"train set score: {:.2f}\".format(lr.score(df_Xtrain, df_ytrain)))\n",
    "print(\"test set score {:.2f}\".format(lr.score(df_Xtest, df_ytest)))"
   ]
  }
 ],
 "metadata": {
  "kernelspec": {
   "display_name": "Python 3",
   "language": "python",
   "name": "python3"
  },
  "language_info": {
   "codemirror_mode": {
    "name": "ipython",
    "version": 3
   },
   "file_extension": ".py",
   "mimetype": "text/x-python",
   "name": "python",
   "nbconvert_exporter": "python",
   "pygments_lexer": "ipython3",
   "version": "3.5.2"
  }
 },
 "nbformat": 4,
 "nbformat_minor": 2
}
